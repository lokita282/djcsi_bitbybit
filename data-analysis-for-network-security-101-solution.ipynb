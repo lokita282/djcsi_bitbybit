{
 "cells": [
  {
   "cell_type": "markdown",
   "metadata": {},
   "source": [
    "# Data Analysis for Network Security 101 (Solution)"
   ]
  },
  {
   "cell_type": "markdown",
   "metadata": {},
   "source": [
    "This is the [Wildcard 400 of the 2019 Trendmicro CTF](https://ctf.trendmicro.com). It's a fun set of exercises! Before you read the solutions, try out the challenge first using the [questions kernel](https://www.kaggle.com/hawkcurry/data-analysis-for-network-security-101-questions)"
   ]
  },
  {
   "cell_type": "markdown",
   "metadata": {},
   "source": [
    "## Introduction\n",
    "\n",
    "You are a network security administrator for the medium sized business XYZcorp.  You often use network flow data to uncover anomalous security events.  This challenge provides some sample aggregated data on flows, and uses answers from the anomalous events to construct the flag.\n",
    "\n",
    "Knowledge of network security or protocols is not required.  This challenge requires data stacking, slicing, and/or anomaly detection.\n",
    "\n",
    "### Data\n",
    "  - timestamp,src,dst,port,bytes\n",
    "  - Internal hosts have IPs beginning with 12-14\n",
    "  - External IPs include everything else"
   ]
  },
  {
   "cell_type": "markdown",
   "metadata": {},
   "source": [
    "## Preprocessing"
   ]
  },
  {
   "cell_type": "code",
   "execution_count": 2,
   "metadata": {},
   "outputs": [],
   "source": [
    "import pandas as pd \n",
    "import numpy as np\n",
    "import matplotlib.pyplot as plt\n",
    "import gc"
   ]
  },
  {
   "cell_type": "code",
   "execution_count": 3,
   "metadata": {
    "_cell_guid": "79c7e3d0-c299-4dcb-8224-4455121ee9b0",
    "_uuid": "d629ff2d2480ee46fbb7e2d37f6b5fab8052498a"
   },
   "outputs": [
    {
     "ename": "FileNotFoundError",
     "evalue": "[Errno 2] No such file or directory: 'gowiththeflow_20190826.csv'",
     "output_type": "error",
     "traceback": [
      "\u001b[1;31m---------------------------------------------------------------------------\u001b[0m",
      "\u001b[1;31mFileNotFoundError\u001b[0m                         Traceback (most recent call last)",
      "\u001b[1;32m~\\AppData\\Local\\Temp/ipykernel_7956/2664861385.py\u001b[0m in \u001b[0;36m<module>\u001b[1;34m\u001b[0m\n\u001b[1;32m----> 1\u001b[1;33m df = pd.read_csv(\n\u001b[0m\u001b[0;32m      2\u001b[0m     \u001b[1;34m'gowiththeflow_20190826.csv'\u001b[0m\u001b[1;33m,\u001b[0m\u001b[1;33m\u001b[0m\u001b[1;33m\u001b[0m\u001b[0m\n\u001b[0;32m      3\u001b[0m     \u001b[0mheader\u001b[0m \u001b[1;33m=\u001b[0m \u001b[1;36m0\u001b[0m\u001b[1;33m,\u001b[0m\u001b[1;33m\u001b[0m\u001b[1;33m\u001b[0m\u001b[0m\n\u001b[0;32m      4\u001b[0m     \u001b[0mnames\u001b[0m\u001b[1;33m=\u001b[0m \u001b[1;33m[\u001b[0m\u001b[1;34m'ts'\u001b[0m\u001b[1;33m,\u001b[0m \u001b[1;34m'src'\u001b[0m\u001b[1;33m,\u001b[0m \u001b[1;34m'dst'\u001b[0m\u001b[1;33m,\u001b[0m \u001b[1;34m'port'\u001b[0m\u001b[1;33m,\u001b[0m \u001b[1;34m'bytes'\u001b[0m\u001b[1;33m]\u001b[0m\u001b[1;33m\u001b[0m\u001b[1;33m\u001b[0m\u001b[0m\n\u001b[0;32m      5\u001b[0m )\n",
      "\u001b[1;32mc:\\Users\\sarth\\AppData\\Local\\Programs\\Python\\Python39\\lib\\site-packages\\pandas\\util\\_decorators.py\u001b[0m in \u001b[0;36mwrapper\u001b[1;34m(*args, **kwargs)\u001b[0m\n\u001b[0;32m    309\u001b[0m                     \u001b[0mstacklevel\u001b[0m\u001b[1;33m=\u001b[0m\u001b[0mstacklevel\u001b[0m\u001b[1;33m,\u001b[0m\u001b[1;33m\u001b[0m\u001b[1;33m\u001b[0m\u001b[0m\n\u001b[0;32m    310\u001b[0m                 )\n\u001b[1;32m--> 311\u001b[1;33m             \u001b[1;32mreturn\u001b[0m \u001b[0mfunc\u001b[0m\u001b[1;33m(\u001b[0m\u001b[1;33m*\u001b[0m\u001b[0margs\u001b[0m\u001b[1;33m,\u001b[0m \u001b[1;33m**\u001b[0m\u001b[0mkwargs\u001b[0m\u001b[1;33m)\u001b[0m\u001b[1;33m\u001b[0m\u001b[1;33m\u001b[0m\u001b[0m\n\u001b[0m\u001b[0;32m    312\u001b[0m \u001b[1;33m\u001b[0m\u001b[0m\n\u001b[0;32m    313\u001b[0m         \u001b[1;32mreturn\u001b[0m \u001b[0mwrapper\u001b[0m\u001b[1;33m\u001b[0m\u001b[1;33m\u001b[0m\u001b[0m\n",
      "\u001b[1;32mc:\\Users\\sarth\\AppData\\Local\\Programs\\Python\\Python39\\lib\\site-packages\\pandas\\io\\parsers\\readers.py\u001b[0m in \u001b[0;36mread_csv\u001b[1;34m(filepath_or_buffer, sep, delimiter, header, names, index_col, usecols, squeeze, prefix, mangle_dupe_cols, dtype, engine, converters, true_values, false_values, skipinitialspace, skiprows, skipfooter, nrows, na_values, keep_default_na, na_filter, verbose, skip_blank_lines, parse_dates, infer_datetime_format, keep_date_col, date_parser, dayfirst, cache_dates, iterator, chunksize, compression, thousands, decimal, lineterminator, quotechar, quoting, doublequote, escapechar, comment, encoding, encoding_errors, dialect, error_bad_lines, warn_bad_lines, on_bad_lines, delim_whitespace, low_memory, memory_map, float_precision, storage_options)\u001b[0m\n\u001b[0;32m    584\u001b[0m     \u001b[0mkwds\u001b[0m\u001b[1;33m.\u001b[0m\u001b[0mupdate\u001b[0m\u001b[1;33m(\u001b[0m\u001b[0mkwds_defaults\u001b[0m\u001b[1;33m)\u001b[0m\u001b[1;33m\u001b[0m\u001b[1;33m\u001b[0m\u001b[0m\n\u001b[0;32m    585\u001b[0m \u001b[1;33m\u001b[0m\u001b[0m\n\u001b[1;32m--> 586\u001b[1;33m     \u001b[1;32mreturn\u001b[0m \u001b[0m_read\u001b[0m\u001b[1;33m(\u001b[0m\u001b[0mfilepath_or_buffer\u001b[0m\u001b[1;33m,\u001b[0m \u001b[0mkwds\u001b[0m\u001b[1;33m)\u001b[0m\u001b[1;33m\u001b[0m\u001b[1;33m\u001b[0m\u001b[0m\n\u001b[0m\u001b[0;32m    587\u001b[0m \u001b[1;33m\u001b[0m\u001b[0m\n\u001b[0;32m    588\u001b[0m \u001b[1;33m\u001b[0m\u001b[0m\n",
      "\u001b[1;32mc:\\Users\\sarth\\AppData\\Local\\Programs\\Python\\Python39\\lib\\site-packages\\pandas\\io\\parsers\\readers.py\u001b[0m in \u001b[0;36m_read\u001b[1;34m(filepath_or_buffer, kwds)\u001b[0m\n\u001b[0;32m    480\u001b[0m \u001b[1;33m\u001b[0m\u001b[0m\n\u001b[0;32m    481\u001b[0m     \u001b[1;31m# Create the parser.\u001b[0m\u001b[1;33m\u001b[0m\u001b[1;33m\u001b[0m\u001b[1;33m\u001b[0m\u001b[0m\n\u001b[1;32m--> 482\u001b[1;33m     \u001b[0mparser\u001b[0m \u001b[1;33m=\u001b[0m \u001b[0mTextFileReader\u001b[0m\u001b[1;33m(\u001b[0m\u001b[0mfilepath_or_buffer\u001b[0m\u001b[1;33m,\u001b[0m \u001b[1;33m**\u001b[0m\u001b[0mkwds\u001b[0m\u001b[1;33m)\u001b[0m\u001b[1;33m\u001b[0m\u001b[1;33m\u001b[0m\u001b[0m\n\u001b[0m\u001b[0;32m    483\u001b[0m \u001b[1;33m\u001b[0m\u001b[0m\n\u001b[0;32m    484\u001b[0m     \u001b[1;32mif\u001b[0m \u001b[0mchunksize\u001b[0m \u001b[1;32mor\u001b[0m \u001b[0miterator\u001b[0m\u001b[1;33m:\u001b[0m\u001b[1;33m\u001b[0m\u001b[1;33m\u001b[0m\u001b[0m\n",
      "\u001b[1;32mc:\\Users\\sarth\\AppData\\Local\\Programs\\Python\\Python39\\lib\\site-packages\\pandas\\io\\parsers\\readers.py\u001b[0m in \u001b[0;36m__init__\u001b[1;34m(self, f, engine, **kwds)\u001b[0m\n\u001b[0;32m    809\u001b[0m             \u001b[0mself\u001b[0m\u001b[1;33m.\u001b[0m\u001b[0moptions\u001b[0m\u001b[1;33m[\u001b[0m\u001b[1;34m\"has_index_names\"\u001b[0m\u001b[1;33m]\u001b[0m \u001b[1;33m=\u001b[0m \u001b[0mkwds\u001b[0m\u001b[1;33m[\u001b[0m\u001b[1;34m\"has_index_names\"\u001b[0m\u001b[1;33m]\u001b[0m\u001b[1;33m\u001b[0m\u001b[1;33m\u001b[0m\u001b[0m\n\u001b[0;32m    810\u001b[0m \u001b[1;33m\u001b[0m\u001b[0m\n\u001b[1;32m--> 811\u001b[1;33m         \u001b[0mself\u001b[0m\u001b[1;33m.\u001b[0m\u001b[0m_engine\u001b[0m \u001b[1;33m=\u001b[0m \u001b[0mself\u001b[0m\u001b[1;33m.\u001b[0m\u001b[0m_make_engine\u001b[0m\u001b[1;33m(\u001b[0m\u001b[0mself\u001b[0m\u001b[1;33m.\u001b[0m\u001b[0mengine\u001b[0m\u001b[1;33m)\u001b[0m\u001b[1;33m\u001b[0m\u001b[1;33m\u001b[0m\u001b[0m\n\u001b[0m\u001b[0;32m    812\u001b[0m \u001b[1;33m\u001b[0m\u001b[0m\n\u001b[0;32m    813\u001b[0m     \u001b[1;32mdef\u001b[0m \u001b[0mclose\u001b[0m\u001b[1;33m(\u001b[0m\u001b[0mself\u001b[0m\u001b[1;33m)\u001b[0m\u001b[1;33m:\u001b[0m\u001b[1;33m\u001b[0m\u001b[1;33m\u001b[0m\u001b[0m\n",
      "\u001b[1;32mc:\\Users\\sarth\\AppData\\Local\\Programs\\Python\\Python39\\lib\\site-packages\\pandas\\io\\parsers\\readers.py\u001b[0m in \u001b[0;36m_make_engine\u001b[1;34m(self, engine)\u001b[0m\n\u001b[0;32m   1038\u001b[0m             )\n\u001b[0;32m   1039\u001b[0m         \u001b[1;31m# error: Too many arguments for \"ParserBase\"\u001b[0m\u001b[1;33m\u001b[0m\u001b[1;33m\u001b[0m\u001b[1;33m\u001b[0m\u001b[0m\n\u001b[1;32m-> 1040\u001b[1;33m         \u001b[1;32mreturn\u001b[0m \u001b[0mmapping\u001b[0m\u001b[1;33m[\u001b[0m\u001b[0mengine\u001b[0m\u001b[1;33m]\u001b[0m\u001b[1;33m(\u001b[0m\u001b[0mself\u001b[0m\u001b[1;33m.\u001b[0m\u001b[0mf\u001b[0m\u001b[1;33m,\u001b[0m \u001b[1;33m**\u001b[0m\u001b[0mself\u001b[0m\u001b[1;33m.\u001b[0m\u001b[0moptions\u001b[0m\u001b[1;33m)\u001b[0m  \u001b[1;31m# type: ignore[call-arg]\u001b[0m\u001b[1;33m\u001b[0m\u001b[1;33m\u001b[0m\u001b[0m\n\u001b[0m\u001b[0;32m   1041\u001b[0m \u001b[1;33m\u001b[0m\u001b[0m\n\u001b[0;32m   1042\u001b[0m     \u001b[1;32mdef\u001b[0m \u001b[0m_failover_to_python\u001b[0m\u001b[1;33m(\u001b[0m\u001b[0mself\u001b[0m\u001b[1;33m)\u001b[0m\u001b[1;33m:\u001b[0m\u001b[1;33m\u001b[0m\u001b[1;33m\u001b[0m\u001b[0m\n",
      "\u001b[1;32mc:\\Users\\sarth\\AppData\\Local\\Programs\\Python\\Python39\\lib\\site-packages\\pandas\\io\\parsers\\c_parser_wrapper.py\u001b[0m in \u001b[0;36m__init__\u001b[1;34m(self, src, **kwds)\u001b[0m\n\u001b[0;32m     49\u001b[0m \u001b[1;33m\u001b[0m\u001b[0m\n\u001b[0;32m     50\u001b[0m         \u001b[1;31m# open handles\u001b[0m\u001b[1;33m\u001b[0m\u001b[1;33m\u001b[0m\u001b[1;33m\u001b[0m\u001b[0m\n\u001b[1;32m---> 51\u001b[1;33m         \u001b[0mself\u001b[0m\u001b[1;33m.\u001b[0m\u001b[0m_open_handles\u001b[0m\u001b[1;33m(\u001b[0m\u001b[0msrc\u001b[0m\u001b[1;33m,\u001b[0m \u001b[0mkwds\u001b[0m\u001b[1;33m)\u001b[0m\u001b[1;33m\u001b[0m\u001b[1;33m\u001b[0m\u001b[0m\n\u001b[0m\u001b[0;32m     52\u001b[0m         \u001b[1;32massert\u001b[0m \u001b[0mself\u001b[0m\u001b[1;33m.\u001b[0m\u001b[0mhandles\u001b[0m \u001b[1;32mis\u001b[0m \u001b[1;32mnot\u001b[0m \u001b[1;32mNone\u001b[0m\u001b[1;33m\u001b[0m\u001b[1;33m\u001b[0m\u001b[0m\n\u001b[0;32m     53\u001b[0m \u001b[1;33m\u001b[0m\u001b[0m\n",
      "\u001b[1;32mc:\\Users\\sarth\\AppData\\Local\\Programs\\Python\\Python39\\lib\\site-packages\\pandas\\io\\parsers\\base_parser.py\u001b[0m in \u001b[0;36m_open_handles\u001b[1;34m(self, src, kwds)\u001b[0m\n\u001b[0;32m    220\u001b[0m         \u001b[0mLet\u001b[0m \u001b[0mthe\u001b[0m \u001b[0mreaders\u001b[0m \u001b[0mopen\u001b[0m \u001b[0mIOHandles\u001b[0m \u001b[0mafter\u001b[0m \u001b[0mthey\u001b[0m \u001b[0mare\u001b[0m \u001b[0mdone\u001b[0m \u001b[1;32mwith\u001b[0m \u001b[0mtheir\u001b[0m \u001b[0mpotential\u001b[0m \u001b[0mraises\u001b[0m\u001b[1;33m.\u001b[0m\u001b[1;33m\u001b[0m\u001b[1;33m\u001b[0m\u001b[0m\n\u001b[0;32m    221\u001b[0m         \"\"\"\n\u001b[1;32m--> 222\u001b[1;33m         self.handles = get_handle(\n\u001b[0m\u001b[0;32m    223\u001b[0m             \u001b[0msrc\u001b[0m\u001b[1;33m,\u001b[0m\u001b[1;33m\u001b[0m\u001b[1;33m\u001b[0m\u001b[0m\n\u001b[0;32m    224\u001b[0m             \u001b[1;34m\"r\"\u001b[0m\u001b[1;33m,\u001b[0m\u001b[1;33m\u001b[0m\u001b[1;33m\u001b[0m\u001b[0m\n",
      "\u001b[1;32mc:\\Users\\sarth\\AppData\\Local\\Programs\\Python\\Python39\\lib\\site-packages\\pandas\\io\\common.py\u001b[0m in \u001b[0;36mget_handle\u001b[1;34m(path_or_buf, mode, encoding, compression, memory_map, is_text, errors, storage_options)\u001b[0m\n\u001b[0;32m    700\u001b[0m         \u001b[1;32mif\u001b[0m \u001b[0mioargs\u001b[0m\u001b[1;33m.\u001b[0m\u001b[0mencoding\u001b[0m \u001b[1;32mand\u001b[0m \u001b[1;34m\"b\"\u001b[0m \u001b[1;32mnot\u001b[0m \u001b[1;32min\u001b[0m \u001b[0mioargs\u001b[0m\u001b[1;33m.\u001b[0m\u001b[0mmode\u001b[0m\u001b[1;33m:\u001b[0m\u001b[1;33m\u001b[0m\u001b[1;33m\u001b[0m\u001b[0m\n\u001b[0;32m    701\u001b[0m             \u001b[1;31m# Encoding\u001b[0m\u001b[1;33m\u001b[0m\u001b[1;33m\u001b[0m\u001b[1;33m\u001b[0m\u001b[0m\n\u001b[1;32m--> 702\u001b[1;33m             handle = open(\n\u001b[0m\u001b[0;32m    703\u001b[0m                 \u001b[0mhandle\u001b[0m\u001b[1;33m,\u001b[0m\u001b[1;33m\u001b[0m\u001b[1;33m\u001b[0m\u001b[0m\n\u001b[0;32m    704\u001b[0m                 \u001b[0mioargs\u001b[0m\u001b[1;33m.\u001b[0m\u001b[0mmode\u001b[0m\u001b[1;33m,\u001b[0m\u001b[1;33m\u001b[0m\u001b[1;33m\u001b[0m\u001b[0m\n",
      "\u001b[1;31mFileNotFoundError\u001b[0m: [Errno 2] No such file or directory: 'gowiththeflow_20190826.csv'"
     ]
    }
   ],
   "source": [
    "df = pd.read_csv(\n",
    "    'gowiththeflow_20190826.csv',\n",
    "    header = 0, \n",
    "    names= ['ts', 'src', 'dst', 'port', 'bytes']\n",
    ")\n",
    "df.info()"
   ]
  },
  {
   "cell_type": "markdown",
   "metadata": {},
   "source": [
    "We create extra features to make it more convenient to do certain filters such as _\"inbound traffic\"_ and _\"outbound traffic\"_"
   ]
  },
  {
   "cell_type": "code",
   "execution_count": null,
   "metadata": {},
   "outputs": [
    {
     "data": {
      "text/html": [
       "<div>\n",
       "<style scoped>\n",
       "    .dataframe tbody tr th:only-of-type {\n",
       "        vertical-align: middle;\n",
       "    }\n",
       "\n",
       "    .dataframe tbody tr th {\n",
       "        vertical-align: top;\n",
       "    }\n",
       "\n",
       "    .dataframe thead th {\n",
       "        text-align: right;\n",
       "    }\n",
       "</style>\n",
       "<table border=\"1\" class=\"dataframe\">\n",
       "  <thead>\n",
       "    <tr style=\"text-align: right;\">\n",
       "      <th></th>\n",
       "      <th>ts</th>\n",
       "      <th>src</th>\n",
       "      <th>dst</th>\n",
       "      <th>port</th>\n",
       "      <th>bytes</th>\n",
       "      <th>src_int</th>\n",
       "      <th>dst_int</th>\n",
       "      <th>hour</th>\n",
       "      <th>minute</th>\n",
       "    </tr>\n",
       "  </thead>\n",
       "  <tbody>\n",
       "    <tr>\n",
       "      <th>0</th>\n",
       "      <td>2020-01-06 16:00:00.005</td>\n",
       "      <td>16.79.101.100</td>\n",
       "      <td>12.48.65.39</td>\n",
       "      <td>92</td>\n",
       "      <td>11895</td>\n",
       "      <td>False</td>\n",
       "      <td>True</td>\n",
       "      <td>16</td>\n",
       "      <td>0</td>\n",
       "    </tr>\n",
       "    <tr>\n",
       "      <th>1</th>\n",
       "      <td>2020-01-06 16:00:00.007</td>\n",
       "      <td>18.43.118.103</td>\n",
       "      <td>14.51.30.86</td>\n",
       "      <td>27</td>\n",
       "      <td>898</td>\n",
       "      <td>False</td>\n",
       "      <td>True</td>\n",
       "      <td>16</td>\n",
       "      <td>0</td>\n",
       "    </tr>\n",
       "    <tr>\n",
       "      <th>2</th>\n",
       "      <td>2020-01-06 16:00:00.011</td>\n",
       "      <td>15.71.108.118</td>\n",
       "      <td>14.50.119.33</td>\n",
       "      <td>57</td>\n",
       "      <td>7496</td>\n",
       "      <td>False</td>\n",
       "      <td>True</td>\n",
       "      <td>16</td>\n",
       "      <td>0</td>\n",
       "    </tr>\n",
       "    <tr>\n",
       "      <th>3</th>\n",
       "      <td>2020-01-06 16:00:00.012</td>\n",
       "      <td>14.33.30.103</td>\n",
       "      <td>15.24.31.23</td>\n",
       "      <td>115</td>\n",
       "      <td>20979</td>\n",
       "      <td>True</td>\n",
       "      <td>False</td>\n",
       "      <td>16</td>\n",
       "      <td>0</td>\n",
       "    </tr>\n",
       "    <tr>\n",
       "      <th>4</th>\n",
       "      <td>2020-01-06 16:00:00.012</td>\n",
       "      <td>18.121.115.31</td>\n",
       "      <td>13.56.39.74</td>\n",
       "      <td>92</td>\n",
       "      <td>8620</td>\n",
       "      <td>False</td>\n",
       "      <td>True</td>\n",
       "      <td>16</td>\n",
       "      <td>0</td>\n",
       "    </tr>\n",
       "  </tbody>\n",
       "</table>\n",
       "</div>"
      ],
      "text/plain": [
       "                       ts            src           dst  port  bytes  src_int  \\\n",
       "0 2020-01-06 16:00:00.005  16.79.101.100   12.48.65.39    92  11895    False   \n",
       "1 2020-01-06 16:00:00.007  18.43.118.103   14.51.30.86    27    898    False   \n",
       "2 2020-01-06 16:00:00.011  15.71.108.118  14.50.119.33    57   7496    False   \n",
       "3 2020-01-06 16:00:00.012   14.33.30.103   15.24.31.23   115  20979     True   \n",
       "4 2020-01-06 16:00:00.012  18.121.115.31   13.56.39.74    92   8620    False   \n",
       "\n",
       "   dst_int  hour  minute  \n",
       "0     True    16       0  \n",
       "1     True    16       0  \n",
       "2     True    16       0  \n",
       "3    False    16       0  \n",
       "4     True    16       0  "
      ]
     },
     "execution_count": 3,
     "metadata": {},
     "output_type": "execute_result"
    }
   ],
   "source": [
    "def is_internal(s):\n",
    "    return s.str.startswith(('12.', '13.', '14.')) \n",
    "\n",
    "df['src_int'] = is_internal(df['src'])\n",
    "df['dst_int'] = is_internal(df['dst'])\n",
    "\n",
    "df['ts']      = pd.to_datetime(df.ts, unit='ms')\n",
    "df['hour']    = df.ts.dt.hour.astype('uint8')\n",
    "df['minute']  = df.ts.dt.minute.astype('uint8')\n",
    "df['port']    = df['port'].astype('uint8')\n",
    "df.head()"
   ]
  },
  {
   "cell_type": "markdown",
   "metadata": {},
   "source": [
    "We convert the `src` and `dst` as categorical to save on memory."
   ]
  },
  {
   "cell_type": "code",
   "execution_count": null,
   "metadata": {},
   "outputs": [
    {
     "name": "stdout",
     "output_type": "stream",
     "text": [
      "Unique src: 6171\n",
      "Unique dst: 6005\n",
      "Total Unique IPs: 6177\n",
      "<class 'pandas.core.frame.DataFrame'>\n",
      "RangeIndex: 105747729 entries, 0 to 105747728\n",
      "Data columns (total 9 columns):\n",
      " #   Column   Dtype         \n",
      "---  ------   -----         \n",
      " 0   ts       datetime64[ns]\n",
      " 1   src      category      \n",
      " 2   dst      category      \n",
      " 3   port     uint8         \n",
      " 4   bytes    int64         \n",
      " 5   src_int  bool          \n",
      " 6   dst_int  bool          \n",
      " 7   hour     uint8         \n",
      " 8   minute   uint8         \n",
      "dtypes: bool(2), category(2), datetime64[ns](1), int64(1), uint8(3)\n",
      "memory usage: 2.5 GB\n"
     ]
    }
   ],
   "source": [
    "all_ips = set(df['src'].unique()) | set(df['dst'].unique())\n",
    "print('Unique src:', df['src'].nunique())\n",
    "print('Unique dst:', df['dst'].nunique())\n",
    "print('Total Unique IPs:', len(all_ips))\n",
    "\n",
    "ip_type = pd.CategoricalDtype(categories=all_ips)\n",
    "df['src'] = df['src'].astype(ip_type)\n",
    "df['dst'] = df['dst'].astype(ip_type)\n",
    "gc.collect()\n",
    "df.info()"
   ]
  },
  {
   "cell_type": "markdown",
   "metadata": {},
   "source": [
    "## Challenges\n",
    "\n",
    "The data used here is highly synthetic, so it should be obvious when you get the _right_ answer. "
   ]
  },
  {
   "cell_type": "code",
   "execution_count": null,
   "metadata": {},
   "outputs": [],
   "source": [
    "blacklist_ips = []\n",
    "answers = []"
   ]
  },
  {
   "cell_type": "markdown",
   "metadata": {},
   "source": [
    "### Question 1: Discover Data Exfiltration 1\n",
    "\n",
    "*Our intellectual property is leaving the building in large chunks. A machine inside is being used to send out all of our widget designs. One host is sending out much more data from the enterprise than the others. What is its IP?*"
   ]
  },
  {
   "cell_type": "markdown",
   "metadata": {},
   "source": [
    "This is straightforward. We get the sources with the most outbound traffic in our network."
   ]
  },
  {
   "cell_type": "code",
   "execution_count": null,
   "metadata": {},
   "outputs": [],
   "source": [
    "src_bytes_out = df[df['src_int'] & ~df['dst_int']]\\\n",
    "  .groupby('src')\\\n",
    "  .bytes.sum()\\\n",
    "  .pipe(lambda x: x[x > 0])\\\n",
    "  .sort_values(ascending=False)\n",
    "\n",
    "src_bytes_out.to_frame().head()"
   ]
  },
  {
   "cell_type": "code",
   "execution_count": null,
   "metadata": {},
   "outputs": [
    {
     "data": {
      "text/plain": [
       "Text(0.5, 0, 'total outbound bytes')"
      ]
     },
     "execution_count": 7,
     "metadata": {},
     "output_type": "execute_result"
    },
    {
     "data": {
      "image/png": "[encoded data removed]",
      "text/plain": [
       "<Figure size 432x288 with 1 Axes>"
      ]
     },
     "metadata": {
      "needs_background": "light"
     },
     "output_type": "display_data"
    }
   ],
   "source": [
    "src_bytes_out.head(10)\\\n",
    "    .sort_values()\\\n",
    "    .plot.barh(title='Top 10 high outbound traffic srcs')\\\n",
    "    .set_xlabel('total outbound bytes')"
   ]
  },
  {
   "cell_type": "code",
   "execution_count": null,
   "metadata": {},
   "outputs": [
    {
     "data": {
      "text/plain": [
       "Text(10625497574, 100, '13.37.84.125')"
      ]
     },
     "execution_count": 8,
     "metadata": {},
     "output_type": "execute_result"
    },
    {
     "data": {
      "image/png": "[encoded data removed]",
      "text/plain": [
       "<Figure size 432x288 with 1 Axes>"
      ]
     },
     "metadata": {
      "needs_background": "light"
     },
     "output_type": "display_data"
    }
   ],
   "source": [
    "ax = src_bytes_out\\\n",
    "  .plot.hist(bins=50, title='Outbound traffic per src')\n",
    "\n",
    "ax.set_xlabel('total outbound bytes')\n",
    "_ = ax.axvline(src_bytes_out.iloc[0], linestyle='--')\n",
    "plt.text(src_bytes_out.iloc[0], 100, '13.37.84.125', rotation=90, horizontalalignment='right')"
   ]
  },
  {
   "cell_type": "code",
   "execution_count": null,
   "metadata": {},
   "outputs": [],
   "source": [
    "blacklist_ips.append('13.37.84.125')\n",
    "answers.append('13.37.84.125')"
   ]
  },
  {
   "cell_type": "markdown",
   "metadata": {},
   "source": [
    "__ANSWER:__ 13.37.84.125"
   ]
  },
  {
   "cell_type": "markdown",
   "metadata": {},
   "source": [
    "### Question 2: Discover Data Exfiltration 2\n",
    "\n",
    "*Another attacker has a job scheduled that export the contents of our internal wiki. One host is sending out much more data during off hours from the enterprise than the others, different from the host in the Question 1. What is its IP?* \n",
    "\n"
   ]
  },
  {
   "cell_type": "markdown",
   "metadata": {},
   "source": [
    "We look for the `src` that sends much more data outbound during off hours. To do this we first have to identify which are the off hours. From the plot below, we see regular office hours are between 16:00 to 23:00. So we filter for 0:00 to 16:00."
   ]
  },
  {
   "cell_type": "code",
   "execution_count": null,
   "metadata": {},
   "outputs": [
    {
     "data": {
      "text/plain": [
       "Text(0, 0.5, 'Connection counts')"
      ]
     },
     "execution_count": 10,
     "metadata": {},
     "output_type": "execute_result"
    },
    {
     "data": {
      "image/png": "[encoded data removed]",
      "text/plain": [
       "<Figure size 432x288 with 1 Axes>"
      ]
     },
     "metadata": {
      "needs_background": "light"
     },
     "output_type": "display_data"
    }
   ],
   "source": [
    "df.groupby('hour').size()\\\n",
    "  .plot.bar(title='Activity per hour')\\\n",
    "  .set_ylabel('Connection counts')"
   ]
  },
  {
   "cell_type": "code",
   "execution_count": null,
   "metadata": {},
   "outputs": [
    {
     "data": {
      "text/plain": [
       "src\n",
       "12.55.77.96     289566918.0\n",
       "13.48.72.30     120862595.0\n",
       "14.51.30.86     116752466.0\n",
       "12.59.25.34     115533918.0\n",
       "14.51.75.107    112816919.0\n",
       "Name: bytes, dtype: float64"
      ]
     },
     "execution_count": 11,
     "metadata": {},
     "output_type": "execute_result"
    }
   ],
   "source": [
    "off_hours_activity = df[\n",
    "    ~df['src'].isin(blacklist_ips)          # Not including previous answers\n",
    "    & df['src_int'] & ~df['dst_int']        # Outbound\n",
    "    & (df['hour'] >= 0) & (df['hour'] < 16) # Off hours\n",
    "].groupby('src')\\\n",
    "  .bytes.sum()\\\n",
    "  .sort_values(ascending=False)\\\n",
    "  .where(lambda x: x > 0)\n",
    "\n",
    "off_hours_activity.head()"
   ]
  },
  {
   "cell_type": "code",
   "execution_count": null,
   "metadata": {},
   "outputs": [
    {
     "data": {
      "text/plain": [
       "Text(0.5, 0, 'total outbound bytes')"
      ]
     },
     "execution_count": 12,
     "metadata": {},
     "output_type": "execute_result"
    },
    {
     "data": {
      "image/png": "[encoded data removed]",
      "text/plain": [
       "<Figure size 432x288 with 1 Axes>"
      ]
     },
     "metadata": {
      "needs_background": "light"
     },
     "output_type": "display_data"
    }
   ],
   "source": [
    "off_hours_activity.head(10)\\\n",
    "    .sort_values()\\\n",
    "    .plot.barh(title='Top 10 off hours high outbound traffic srcs')\\\n",
    "    .set_xlabel('total outbound bytes')"
   ]
  },
  {
   "cell_type": "code",
   "execution_count": null,
   "metadata": {},
   "outputs": [
    {
     "data": {
      "text/plain": [
       "Text(289566918.0, 40, '12.55.77.96')"
      ]
     },
     "execution_count": 13,
     "metadata": {},
     "output_type": "execute_result"
    },
    {
     "data": {
      "image/png": "[encoded data removed]",
      "text/plain": [
       "<Figure size 432x288 with 1 Axes>"
      ]
     },
     "metadata": {
      "needs_background": "light"
     },
     "output_type": "display_data"
    }
   ],
   "source": [
    "ax = off_hours_activity.plot.hist(bins=50, title='Off hours outbound traffic')\n",
    "ax.set_xlabel('total outbound bytes')\n",
    "_ = ax.axvline(off_hours_activity.iloc[0], linestyle='--')\n",
    "plt.text(off_hours_activity.iloc[0], 40, '12.55.77.96', rotation=90, horizontalalignment='right')"
   ]
  },
  {
   "cell_type": "markdown",
   "metadata": {},
   "source": [
    "Looking only at off hour traffic is important because this might not be something that we would detect if we only looked at overall outbound traffic.[](http://)"
   ]
  },
  {
   "cell_type": "code",
   "execution_count": null,
   "metadata": {},
   "outputs": [
    {
     "data": {
      "text/plain": [
       "Text(1033651932, 100, '12.55.77.96')"
      ]
     },
     "execution_count": 14,
     "metadata": {},
     "output_type": "execute_result"
    },
    {
     "data": {
      "image/png": "[encoded data removed]",
      "text/plain": [
       "<Figure size 432x288 with 1 Axes>"
      ]
     },
     "metadata": {
      "needs_background": "light"
     },
     "output_type": "display_data"
    }
   ],
   "source": [
    "ax = src_bytes_out\\\n",
    "  .plot.hist(bins=50, title='Outbound traffic per src')\n",
    "\n",
    "ax.set_xlabel('total outbound bytes')\n",
    "_ = ax.axvline(src_bytes_out.loc['12.55.77.96'], color='k', linestyle='--')\n",
    "plt.text(src_bytes_out.loc['12.55.77.96'], 100, '12.55.77.96', rotation=90, horizontalalignment='right')"
   ]
  },
  {
   "cell_type": "code",
   "execution_count": null,
   "metadata": {},
   "outputs": [],
   "source": [
    "blacklist_ips.append('12.55.77.96')\n",
    "answers.append('12.55.77.96')"
   ]
  },
  {
   "cell_type": "markdown",
   "metadata": {},
   "source": [
    "__ANSWER__: 12.55.77.96"
   ]
  },
  {
   "cell_type": "markdown",
   "metadata": {},
   "source": [
    "### Question 3: Discover Data Exfiltration 3\n",
    "\n",
    "*Some assailant is grabbing all the employee and vendor email addresses, and sending them out on a channel normally reserved for other uses. This is similar to attackers abusing DNS for data exfiltration. One host is sending out much more data on a some port from the enterprise than other hosts do, different from the hosts in Questions 1 and 2. What is its port?*\n"
   ]
  },
  {
   "cell_type": "code",
   "execution_count": null,
   "metadata": {},
   "outputs": [
    {
     "name": "stdout",
     "output_type": "stream",
     "text": [
      "Number of unique ports: 46\n"
     ]
    }
   ],
   "source": [
    "src_port_bytes_df = df[\n",
    "        ~df['src'].isin(blacklist_ips)     # Not including previous answers\n",
    "        & df['src_int'] & ~df['dst_int']   # Outbound\n",
    "    ].groupby(['src', 'port'])\\\n",
    "        .bytes.sum()\\\n",
    "        .reset_index()\n",
    "\n",
    "ports = src_port_bytes_df['port'].unique()\n",
    "print('Number of unique ports:', len(ports))"
   ]
  },
  {
   "cell_type": "markdown",
   "metadata": {},
   "source": [
    "For problems like this, we sometimes have some prior information/experience that can help us get started. Such as ports that we expect high bandwidth outbound traffic such as 443 and 80, and those that we don't expect high bandwidth traffic such as 53. There is also a notion of common and uncommonly used ports. However, looking at the data, it looks like none of that is applicable."
   ]
  },
  {
   "cell_type": "code",
   "execution_count": null,
   "metadata": {},
   "outputs": [
    {
     "data": {
      "text/html": [
       "<div>\n",
       "<style scoped>\n",
       "    .dataframe tbody tr th:only-of-type {\n",
       "        vertical-align: middle;\n",
       "    }\n",
       "\n",
       "    .dataframe tbody tr th {\n",
       "        vertical-align: top;\n",
       "    }\n",
       "\n",
       "    .dataframe thead th {\n",
       "        text-align: right;\n",
       "    }\n",
       "</style>\n",
       "<table border=\"1\" class=\"dataframe\">\n",
       "  <thead>\n",
       "    <tr style=\"text-align: right;\">\n",
       "      <th></th>\n",
       "      <th>src</th>\n",
       "      <th>port</th>\n",
       "      <th>bytes</th>\n",
       "    </tr>\n",
       "  </thead>\n",
       "  <tbody>\n",
       "  </tbody>\n",
       "</table>\n",
       "</div>"
      ],
      "text/plain": [
       "Empty DataFrame\n",
       "Columns: [src, port, bytes]\n",
       "Index: []"
      ]
     },
     "execution_count": 17,
     "metadata": {},
     "output_type": "execute_result"
    }
   ],
   "source": [
    "src_port_bytes_df[src_port_bytes_df.port == 113]"
   ]
  },
  {
   "cell_type": "code",
   "execution_count": null,
   "metadata": {},
   "outputs": [
    {
     "data": {
      "text/plain": [
       "Text(0, 0.5, 'Total outbound bytes')"
      ]
     },
     "execution_count": 18,
     "metadata": {},
     "output_type": "execute_result"
    },
    {
     "data": {
      "image/png": "[encoded data removed]",
      "text/plain": [
       "<Figure size 1152x288 with 1 Axes>"
      ]
     },
     "metadata": {
      "needs_background": "light"
     },
     "output_type": "display_data"
    }
   ],
   "source": [
    "src_port_bytes_df.groupby('port')\\\n",
    "    .bytes.sum()\\\n",
    "    .sort_values(ascending=False)\\\n",
    "    .plot.bar(figsize=(16,4), rot=0, title=\"Outbound bytes per port\")\\\n",
    "    .set_ylabel('Total outbound bytes')"
   ]
  },
  {
   "cell_type": "markdown",
   "metadata": {},
   "source": [
    "To look for atypical behavior on a particular port, we look for outliers in the univariate outbound traffic distributions for each port. After looking some of the distributions (such as for port 92 below), they look _bell-shaped_ so using the Z-score might be appropriate. However, if your find that the distributions are highly skewed, then you might want to do transformationm such as the _log transformation_, to make the distribution more _bell-shaped_."
   ]
  },
  {
   "cell_type": "code",
   "execution_count": null,
   "metadata": {},
   "outputs": [
    {
     "data": {
      "image/png": "[encoded data removed]",
      "text/plain": [
       "<Figure size 864x432 with 9 Axes>"
      ]
     },
     "metadata": {
      "needs_background": "light"
     },
     "output_type": "display_data"
    }
   ],
   "source": [
    "fig, axs = plt.subplots(ncols=3, nrows=3, sharey=True, figsize=(12,6))\n",
    "\n",
    "for idx, p in enumerate(src_port_bytes_df.port.head(9)):\n",
    "    src_port_bytes_df[src_port_bytes_df.port == p]\\\n",
    "        .bytes.plot.hist(title='Distribution for port {}'.format(p), ax = axs[idx % 3][idx // 3])\\\n",
    "        .set_xlabel('total outbound bytes')\n",
    "\n",
    "    plt.tight_layout()"
   ]
  },
  {
   "cell_type": "markdown",
   "metadata": {},
   "source": [
    "We get the z-score of each `src` for each `port` and get the port with the highest z-score, which is probably the most anomalous port."
   ]
  },
  {
   "cell_type": "code",
   "execution_count": null,
   "metadata": {},
   "outputs": [
    {
     "data": {
      "text/plain": [
       "Text(0.5, 0, 'Max z-score')"
      ]
     },
     "execution_count": 20,
     "metadata": {},
     "output_type": "execute_result"
    },
    {
     "data": {
      "image/png": "[encoded data removed]",
      "text/plain": [
       "<Figure size 432x288 with 1 Axes>"
      ]
     },
     "metadata": {
      "needs_background": "light"
     },
     "output_type": "display_data"
    }
   ],
   "source": [
    "src_port_bytes_df\\\n",
    "  .groupby('port')\\\n",
    "  .apply(lambda x: np.max((x.bytes - x.bytes.mean()) / x.bytes.std()))\\\n",
    "  .sort_values(ascending=True)\\\n",
    "  .tail(10)\\\n",
    "  .plot.barh(title='Top z-score value per port')\\\n",
    "  .set_xlabel('Max z-score')"
   ]
  },
  {
   "cell_type": "code",
   "execution_count": null,
   "metadata": {},
   "outputs": [
    {
     "data": {
      "text/html": [
       "<div>\n",
       "<style scoped>\n",
       "    .dataframe tbody tr th:only-of-type {\n",
       "        vertical-align: middle;\n",
       "    }\n",
       "\n",
       "    .dataframe tbody tr th {\n",
       "        vertical-align: top;\n",
       "    }\n",
       "\n",
       "    .dataframe thead th {\n",
       "        text-align: right;\n",
       "    }\n",
       "</style>\n",
       "<table border=\"1\" class=\"dataframe\">\n",
       "  <thead>\n",
       "    <tr style=\"text-align: right;\">\n",
       "      <th></th>\n",
       "      <th>src</th>\n",
       "      <th>port</th>\n",
       "      <th>bytes</th>\n",
       "    </tr>\n",
       "  </thead>\n",
       "  <tbody>\n",
       "    <tr>\n",
       "      <th>35511</th>\n",
       "      <td>12.30.96.87</td>\n",
       "      <td>124</td>\n",
       "      <td>356207</td>\n",
       "    </tr>\n",
       "  </tbody>\n",
       "</table>\n",
       "</div>"
      ],
      "text/plain": [
       "               src  port   bytes\n",
       "35511  12.30.96.87   124  356207"
      ]
     },
     "execution_count": 21,
     "metadata": {},
     "output_type": "execute_result"
    }
   ],
   "source": [
    "src_124 = src_port_bytes_df\\\n",
    "  .pipe(lambda x: x[x['port'] == 124])\\\n",
    "  .sort_values('bytes', ascending=False).head(1)\n",
    "\n",
    "src_124"
   ]
  },
  {
   "cell_type": "code",
   "execution_count": null,
   "metadata": {},
   "outputs": [
    {
     "data": {
      "text/plain": [
       "Text(356207, 100, '12.30.96.87')"
      ]
     },
     "execution_count": 22,
     "metadata": {},
     "output_type": "execute_result"
    },
    {
     "data": {
      "image/png": "[encoded data removed]",
      "text/plain": [
       "<Figure size 432x288 with 1 Axes>"
      ]
     },
     "metadata": {
      "needs_background": "light"
     },
     "output_type": "display_data"
    }
   ],
   "source": [
    "ax = src_port_bytes_df[src_port_bytes_df.port == 124]\\\n",
    "    .bytes.plot.hist(bins=50, title='Distribution of outbound data usage for port 124')\n",
    "\n",
    "ax.set_xlabel('total outbound bytes')\n",
    "_ = ax.axvline(src_124.iloc[0, 2], linestyle='--')\n",
    "plt.text(src_124.iloc[0, 2], 100, '12.30.96.87', rotation=90, horizontalalignment='right')"
   ]
  },
  {
   "cell_type": "code",
   "execution_count": null,
   "metadata": {},
   "outputs": [],
   "source": [
    "blacklist_ips.append('12.30.96.87')\n",
    "answers.append('124')"
   ]
  },
  {
   "cell_type": "markdown",
   "metadata": {},
   "source": [
    "__ANSWER:__ 124"
   ]
  },
  {
   "cell_type": "markdown",
   "metadata": {},
   "source": [
    "### Question 4: Private C&C channel\n",
    "\n",
    "*We're always running a low-grade infection; some internal machines will always have some sort of malware. Some of these infected hosts phone home to C&C on a private channel. What unique port is used by external malware C&C to marshal its bots?*"
   ]
  },
  {
   "cell_type": "markdown",
   "metadata": {},
   "source": [
    "We are looking at ports that are publicly accessible. If a public facing port is legitimate, which might mean it is part of typical business functions like a company website or corporate email server, then we would expect it to be used frequently and from many unique sources. "
   ]
  },
  {
   "cell_type": "code",
   "execution_count": null,
   "metadata": {},
   "outputs": [
    {
     "data": {
      "text/plain": [
       "port\n",
       "113       1\n",
       "90     4898\n",
       "124    4903\n",
       "42     4903\n",
       "123    4904\n",
       "dtype: int64"
      ]
     },
     "execution_count": 24,
     "metadata": {},
     "output_type": "execute_result"
    }
   ],
   "source": [
    "df[~df['src_int']]\\\n",
    "  .drop_duplicates(('src', 'port'))\\\n",
    "  .groupby('port').size()\\\n",
    "  .sort_values()\\\n",
    "  .head()"
   ]
  },
  {
   "cell_type": "code",
   "execution_count": null,
   "metadata": {},
   "outputs": [
    {
     "data": {
      "text/html": [
       "<div>\n",
       "<style scoped>\n",
       "    .dataframe tbody tr th:only-of-type {\n",
       "        vertical-align: middle;\n",
       "    }\n",
       "\n",
       "    .dataframe tbody tr th {\n",
       "        vertical-align: top;\n",
       "    }\n",
       "\n",
       "    .dataframe thead th {\n",
       "        text-align: right;\n",
       "    }\n",
       "</style>\n",
       "<table border=\"1\" class=\"dataframe\">\n",
       "  <thead>\n",
       "    <tr style=\"text-align: right;\">\n",
       "      <th></th>\n",
       "      <th>src</th>\n",
       "      <th>dst</th>\n",
       "      <th>port</th>\n",
       "    </tr>\n",
       "  </thead>\n",
       "  <tbody>\n",
       "    <tr>\n",
       "      <th>521102</th>\n",
       "      <td>15.104.76.58</td>\n",
       "      <td>12.45.104.32</td>\n",
       "      <td>113</td>\n",
       "    </tr>\n",
       "    <tr>\n",
       "      <th>8455407</th>\n",
       "      <td>15.104.76.58</td>\n",
       "      <td>12.54.109.102</td>\n",
       "      <td>113</td>\n",
       "    </tr>\n",
       "    <tr>\n",
       "      <th>10094539</th>\n",
       "      <td>15.104.76.58</td>\n",
       "      <td>12.44.90.114</td>\n",
       "      <td>113</td>\n",
       "    </tr>\n",
       "    <tr>\n",
       "      <th>14443401</th>\n",
       "      <td>15.104.76.58</td>\n",
       "      <td>13.46.43.95</td>\n",
       "      <td>113</td>\n",
       "    </tr>\n",
       "    <tr>\n",
       "      <th>16983637</th>\n",
       "      <td>15.104.76.58</td>\n",
       "      <td>14.41.54.105</td>\n",
       "      <td>113</td>\n",
       "    </tr>\n",
       "    <tr>\n",
       "      <th>20206697</th>\n",
       "      <td>15.104.76.58</td>\n",
       "      <td>14.40.73.39</td>\n",
       "      <td>113</td>\n",
       "    </tr>\n",
       "    <tr>\n",
       "      <th>22688529</th>\n",
       "      <td>15.104.76.58</td>\n",
       "      <td>13.34.88.95</td>\n",
       "      <td>113</td>\n",
       "    </tr>\n",
       "    <tr>\n",
       "      <th>23883204</th>\n",
       "      <td>15.104.76.58</td>\n",
       "      <td>13.43.104.74</td>\n",
       "      <td>113</td>\n",
       "    </tr>\n",
       "    <tr>\n",
       "      <th>28087392</th>\n",
       "      <td>15.104.76.58</td>\n",
       "      <td>12.33.73.55</td>\n",
       "      <td>113</td>\n",
       "    </tr>\n",
       "    <tr>\n",
       "      <th>29337718</th>\n",
       "      <td>15.104.76.58</td>\n",
       "      <td>13.34.89.21</td>\n",
       "      <td>113</td>\n",
       "    </tr>\n",
       "    <tr>\n",
       "      <th>29697524</th>\n",
       "      <td>15.104.76.58</td>\n",
       "      <td>13.30.55.77</td>\n",
       "      <td>113</td>\n",
       "    </tr>\n",
       "    <tr>\n",
       "      <th>31434980</th>\n",
       "      <td>15.104.76.58</td>\n",
       "      <td>13.44.73.37</td>\n",
       "      <td>113</td>\n",
       "    </tr>\n",
       "    <tr>\n",
       "      <th>32387868</th>\n",
       "      <td>15.104.76.58</td>\n",
       "      <td>13.52.101.31</td>\n",
       "      <td>113</td>\n",
       "    </tr>\n",
       "    <tr>\n",
       "      <th>37953698</th>\n",
       "      <td>15.104.76.58</td>\n",
       "      <td>14.30.32.122</td>\n",
       "      <td>113</td>\n",
       "    </tr>\n",
       "    <tr>\n",
       "      <th>39415620</th>\n",
       "      <td>15.104.76.58</td>\n",
       "      <td>13.39.45.30</td>\n",
       "      <td>113</td>\n",
       "    </tr>\n",
       "    <tr>\n",
       "      <th>64825733</th>\n",
       "      <td>15.104.76.58</td>\n",
       "      <td>14.43.103.75</td>\n",
       "      <td>113</td>\n",
       "    </tr>\n",
       "    <tr>\n",
       "      <th>65976770</th>\n",
       "      <td>15.104.76.58</td>\n",
       "      <td>13.56.119.33</td>\n",
       "      <td>113</td>\n",
       "    </tr>\n",
       "    <tr>\n",
       "      <th>66955445</th>\n",
       "      <td>15.104.76.58</td>\n",
       "      <td>13.51.24.117</td>\n",
       "      <td>113</td>\n",
       "    </tr>\n",
       "    <tr>\n",
       "      <th>94996258</th>\n",
       "      <td>15.104.76.58</td>\n",
       "      <td>14.50.119.33</td>\n",
       "      <td>113</td>\n",
       "    </tr>\n",
       "    <tr>\n",
       "      <th>95777940</th>\n",
       "      <td>15.104.76.58</td>\n",
       "      <td>13.34.68.110</td>\n",
       "      <td>113</td>\n",
       "    </tr>\n",
       "    <tr>\n",
       "      <th>98494119</th>\n",
       "      <td>15.104.76.58</td>\n",
       "      <td>12.41.62.22</td>\n",
       "      <td>113</td>\n",
       "    </tr>\n",
       "    <tr>\n",
       "      <th>100484751</th>\n",
       "      <td>15.104.76.58</td>\n",
       "      <td>14.41.120.94</td>\n",
       "      <td>113</td>\n",
       "    </tr>\n",
       "    <tr>\n",
       "      <th>103642546</th>\n",
       "      <td>15.104.76.58</td>\n",
       "      <td>14.47.74.88</td>\n",
       "      <td>113</td>\n",
       "    </tr>\n",
       "  </tbody>\n",
       "</table>\n",
       "</div>"
      ],
      "text/plain": [
       "                    src            dst  port\n",
       "521102     15.104.76.58   12.45.104.32   113\n",
       "8455407    15.104.76.58  12.54.109.102   113\n",
       "10094539   15.104.76.58   12.44.90.114   113\n",
       "14443401   15.104.76.58    13.46.43.95   113\n",
       "16983637   15.104.76.58   14.41.54.105   113\n",
       "20206697   15.104.76.58    14.40.73.39   113\n",
       "22688529   15.104.76.58    13.34.88.95   113\n",
       "23883204   15.104.76.58   13.43.104.74   113\n",
       "28087392   15.104.76.58    12.33.73.55   113\n",
       "29337718   15.104.76.58    13.34.89.21   113\n",
       "29697524   15.104.76.58    13.30.55.77   113\n",
       "31434980   15.104.76.58    13.44.73.37   113\n",
       "32387868   15.104.76.58   13.52.101.31   113\n",
       "37953698   15.104.76.58   14.30.32.122   113\n",
       "39415620   15.104.76.58    13.39.45.30   113\n",
       "64825733   15.104.76.58   14.43.103.75   113\n",
       "65976770   15.104.76.58   13.56.119.33   113\n",
       "66955445   15.104.76.58   13.51.24.117   113\n",
       "94996258   15.104.76.58   14.50.119.33   113\n",
       "95777940   15.104.76.58   13.34.68.110   113\n",
       "98494119   15.104.76.58    12.41.62.22   113\n",
       "100484751  15.104.76.58   14.41.120.94   113\n",
       "103642546  15.104.76.58    14.47.74.88   113"
      ]
     },
     "execution_count": 25,
     "metadata": {},
     "output_type": "execute_result"
    }
   ],
   "source": [
    "df[~df['src_int'] & (df['port'] == 113)][['src', 'dst', 'port']]"
   ]
  },
  {
   "cell_type": "code",
   "execution_count": null,
   "metadata": {},
   "outputs": [
    {
     "data": {
      "text/html": [
       "<div>\n",
       "<style scoped>\n",
       "    .dataframe tbody tr th:only-of-type {\n",
       "        vertical-align: middle;\n",
       "    }\n",
       "\n",
       "    .dataframe tbody tr th {\n",
       "        vertical-align: top;\n",
       "    }\n",
       "\n",
       "    .dataframe thead th {\n",
       "        text-align: right;\n",
       "    }\n",
       "</style>\n",
       "<table border=\"1\" class=\"dataframe\">\n",
       "  <thead>\n",
       "    <tr style=\"text-align: right;\">\n",
       "      <th></th>\n",
       "      <th>src</th>\n",
       "      <th>dst</th>\n",
       "      <th>port</th>\n",
       "    </tr>\n",
       "  </thead>\n",
       "  <tbody>\n",
       "    <tr>\n",
       "      <th>7892499</th>\n",
       "      <td>15.104.76.58</td>\n",
       "      <td>14.47.74.88</td>\n",
       "      <td>105</td>\n",
       "    </tr>\n",
       "    <tr>\n",
       "      <th>8149894</th>\n",
       "      <td>15.104.76.58</td>\n",
       "      <td>14.47.74.88</td>\n",
       "      <td>114</td>\n",
       "    </tr>\n",
       "    <tr>\n",
       "      <th>16160969</th>\n",
       "      <td>15.104.76.58</td>\n",
       "      <td>14.47.74.88</td>\n",
       "      <td>118</td>\n",
       "    </tr>\n",
       "    <tr>\n",
       "      <th>26944990</th>\n",
       "      <td>15.104.76.58</td>\n",
       "      <td>14.47.74.88</td>\n",
       "      <td>52</td>\n",
       "    </tr>\n",
       "    <tr>\n",
       "      <th>31018365</th>\n",
       "      <td>15.104.76.58</td>\n",
       "      <td>14.47.74.88</td>\n",
       "      <td>105</td>\n",
       "    </tr>\n",
       "    <tr>\n",
       "      <th>31989255</th>\n",
       "      <td>15.104.76.58</td>\n",
       "      <td>14.47.74.88</td>\n",
       "      <td>105</td>\n",
       "    </tr>\n",
       "    <tr>\n",
       "      <th>40012898</th>\n",
       "      <td>15.104.76.58</td>\n",
       "      <td>14.47.74.88</td>\n",
       "      <td>39</td>\n",
       "    </tr>\n",
       "    <tr>\n",
       "      <th>52731269</th>\n",
       "      <td>15.104.76.58</td>\n",
       "      <td>14.47.74.88</td>\n",
       "      <td>115</td>\n",
       "    </tr>\n",
       "    <tr>\n",
       "      <th>78383054</th>\n",
       "      <td>15.104.76.58</td>\n",
       "      <td>14.47.74.88</td>\n",
       "      <td>115</td>\n",
       "    </tr>\n",
       "    <tr>\n",
       "      <th>91406004</th>\n",
       "      <td>15.104.76.58</td>\n",
       "      <td>14.47.74.88</td>\n",
       "      <td>115</td>\n",
       "    </tr>\n",
       "    <tr>\n",
       "      <th>92566844</th>\n",
       "      <td>15.104.76.58</td>\n",
       "      <td>14.47.74.88</td>\n",
       "      <td>119</td>\n",
       "    </tr>\n",
       "    <tr>\n",
       "      <th>103642546</th>\n",
       "      <td>15.104.76.58</td>\n",
       "      <td>14.47.74.88</td>\n",
       "      <td>113</td>\n",
       "    </tr>\n",
       "    <tr>\n",
       "      <th>104098461</th>\n",
       "      <td>15.104.76.58</td>\n",
       "      <td>14.47.74.88</td>\n",
       "      <td>52</td>\n",
       "    </tr>\n",
       "  </tbody>\n",
       "</table>\n",
       "</div>"
      ],
      "text/plain": [
       "                    src          dst  port\n",
       "7892499    15.104.76.58  14.47.74.88   105\n",
       "8149894    15.104.76.58  14.47.74.88   114\n",
       "16160969   15.104.76.58  14.47.74.88   118\n",
       "26944990   15.104.76.58  14.47.74.88    52\n",
       "31018365   15.104.76.58  14.47.74.88   105\n",
       "31989255   15.104.76.58  14.47.74.88   105\n",
       "40012898   15.104.76.58  14.47.74.88    39\n",
       "52731269   15.104.76.58  14.47.74.88   115\n",
       "78383054   15.104.76.58  14.47.74.88   115\n",
       "91406004   15.104.76.58  14.47.74.88   115\n",
       "92566844   15.104.76.58  14.47.74.88   119\n",
       "103642546  15.104.76.58  14.47.74.88   113\n",
       "104098461  15.104.76.58  14.47.74.88    52"
      ]
     },
     "execution_count": 26,
     "metadata": {},
     "output_type": "execute_result"
    }
   ],
   "source": [
    "df[(df['src'] == '15.104.76.58') & (df['dst'] == '14.47.74.88')]\\\n",
    "    [['src', 'dst', 'port']]"
   ]
  },
  {
   "cell_type": "code",
   "execution_count": null,
   "metadata": {},
   "outputs": [],
   "source": [
    "answers.append('113')"
   ]
  },
  {
   "cell_type": "markdown",
   "metadata": {},
   "source": [
    "__ANSWER__: 113"
   ]
  },
  {
   "cell_type": "markdown",
   "metadata": {},
   "source": [
    "### Question 5: Internal P2P\n",
    "\n",
    "*Sometimes our low-grade infection is visible in other ways.  One particular virus has spread through a number of machines, which now are used to relay commands to each other.  The malware has created an internal P2P network.  What unique port is used by the largest internal clique, of all hosts talking to each other?*"
   ]
  },
  {
   "cell_type": "markdown",
   "metadata": {},
   "source": [
    "This problem is pretty straightforward as well, since the question directly asks for _the largest clique_. There are methods to get the largest clique however due to the size of the graphs that we would end up constructing, these approaches may not be reasonable.  \n",
    "\n",
    "To get the exact answer, then we can [enumerate all cliques](https://networkx.github.io/documentation/networkx-1.10/reference/generated/networkx.algorithms.clique.find_cliques.html) and find the largest one. However this does not scale well. \n",
    "\n",
    "Instead, we can use an approximate method [max_clique(G)](https://networkx.github.io/documentation/networkx-1.9/reference/generated/networkx.algorithms.approximation.clique.max_clique.html). However, we opt to use the even faster [large_clique_size(G)](https://networkx.github.io/documentation/latest/reference/algorithms/generated/networkx.algorithms.approximation.clique.large_clique_size.html), which gives reasonable sizes in practice. "
   ]
  },
  {
   "cell_type": "code",
   "execution_count": null,
   "metadata": {},
   "outputs": [],
   "source": [
    "import networkx\n",
    "from networkx.algorithms.approximation.clique import large_clique_size \n",
    "from collections import Counter"
   ]
  },
  {
   "cell_type": "code",
   "execution_count": null,
   "metadata": {},
   "outputs": [],
   "source": [
    "internal_edges_all = df[\n",
    "  df['src_int'] & df['dst_int']\n",
    "].drop_duplicates(['src', 'dst', 'port'])\n",
    "internal_ports = internal_edges_all.port.unique()"
   ]
  },
  {
   "cell_type": "markdown",
   "metadata": {},
   "source": [
    "We can compute the result `large_clique_size` for each port within a \"reasonable time\" (maybe around half an hour). However, to further optimize our search, we get the upperbound of the maximum clique size for each graph.\n",
    "\n",
    "It is easy to show that if a clique of size `K` exists inside graph `G`, then there should exist at least `K` nodes in `G` with degree greater than or equal to `K-1`. Given this fact, we can compute an upperbound for the clique size for each port. "
   ]
  },
  {
   "cell_type": "code",
   "execution_count": null,
   "metadata": {},
   "outputs": [],
   "source": [
    "port_upper_bounds = []\n",
    "for p in internal_ports:\n",
    "    internal_edges = internal_edges_all\\\n",
    "        .pipe(lambda x: x[x['port'] == p])\\\n",
    "        .drop_duplicates(['src', 'dst'])\n",
    "\n",
    "    edges = set()\n",
    "    for l, r in zip(internal_edges.src, internal_edges.dst):\n",
    "        k = min((l, r), (r, l))\n",
    "        edges.add(k)\n",
    "    \n",
    "    degrees = Counter()\n",
    "    for (l, r) in edges:\n",
    "        degrees[l] += 1\n",
    "        degrees[r] += 1\n",
    "    \n",
    "    max_clique_size = 0\n",
    "    min_degrees = len(degrees)\n",
    "    for idx, (node, degree) in enumerate(degrees.most_common()):\n",
    "        min_degrees = min(min_degrees, degree)\n",
    "        if min_degrees >= idx:\n",
    "            max_clique_size = max(max_clique_size, idx+1)\n",
    "        if min_degrees < max_clique_size:\n",
    "            break\n",
    "            \n",
    "    port_upper_bounds.append((p, max_clique_size + 1))"
   ]
  },
  {
   "cell_type": "code",
   "execution_count": null,
   "metadata": {},
   "outputs": [
    {
     "data": {
      "text/plain": [
       "[(83, 264), (114, 204), (89, 204), (118, 204), (115, 204)]"
      ]
     },
     "execution_count": 31,
     "metadata": {},
     "output_type": "execute_result"
    }
   ],
   "source": [
    "port_upper_bounds.sort(key = lambda x: -x[-1])\n",
    "port_upper_bounds[:5]"
   ]
  },
  {
   "cell_type": "markdown",
   "metadata": {},
   "source": [
    "We look for large cliques on ports with larger upperbounds. We can skip ports with upperbounds smaller than the largest clique size that we have already found."
   ]
  },
  {
   "cell_type": "code",
   "execution_count": null,
   "metadata": {},
   "outputs": [],
   "source": [
    "max_port = 0\n",
    "curr_max_clique = 0\n",
    "for p, max_clique_upper_bound in port_upper_bounds:\n",
    "    if curr_max_clique > max_clique_upper_bound: break\n",
    "    \n",
    "    internal_edges = internal_edges_all\\\n",
    "        .pipe(lambda x: x[x['port'] == p])\\\n",
    "        .drop_duplicates(['src', 'dst'])\n",
    "  \n",
    "    internal_nodes = set(internal_edges.src) | set(internal_edges.dst)\n",
    "    G = networkx.Graph()\n",
    "    G.add_nodes_from(internal_nodes)\n",
    "    for l, r in zip(internal_edges.src, internal_edges.dst):\n",
    "        G.add_edge(l, r)        \n",
    "        \n",
    "    _size = large_clique_size(G) \n",
    "    if curr_max_clique < _size:\n",
    "        curr_max_clique = _size\n",
    "        max_port = p"
   ]
  },
  {
   "cell_type": "code",
   "execution_count": null,
   "metadata": {},
   "outputs": [
    {
     "name": "stdout",
     "output_type": "stream",
     "text": [
      "Port 83 has approx. max clique size 264\n"
     ]
    }
   ],
   "source": [
    "print('Port {} has approx. max clique size {}'.format(max_port, curr_max_clique))\n",
    "answers.append(str(max_port))"
   ]
  },
  {
   "cell_type": "markdown",
   "metadata": {},
   "source": [
    "__ANSWER:__ 83"
   ]
  },
  {
   "cell_type": "markdown",
   "metadata": {},
   "source": [
    "### Question 6: Malware Controller\n",
    "\n",
    "*We were just blacklisted by an IP reputation service, because some host in our network is behaving badly.  One host is a bot herder receiving C&C callbacks from its botnet, which has little other reason to communicate with hosts in the enterprise.  What is its IP?*"
   ]
  },
  {
   "cell_type": "markdown",
   "metadata": {},
   "source": [
    "For this question, we just follow the clue _\"which has little other reason to communicate with hosts in the enterprise\"_. We look for external IPs that established a connection only to a single host."
   ]
  },
  {
   "cell_type": "code",
   "execution_count": null,
   "metadata": {},
   "outputs": [
    {
     "name": "stdout",
     "output_type": "stream",
     "text": [
      "Count of \"little reason\" src: 172\n"
     ]
    }
   ],
   "source": [
    "single_dst = df[~df['src_int'] & df['dst_int']]\\\n",
    "    .drop_duplicates(['src', 'dst'])\\\n",
    "    .src.value_counts()\\\n",
    "    .pipe(lambda x: x[x == 1])\\\n",
    "    .index\n",
    "\n",
    "print('Count of \"little reason\" src:', len(single_dst))"
   ]
  },
  {
   "cell_type": "markdown",
   "metadata": {},
   "source": [
    "We simply ask, \"_who are these external hosts talking to?_\""
   ]
  },
  {
   "cell_type": "code",
   "execution_count": null,
   "metadata": {},
   "outputs": [
    {
     "data": {
      "text/plain": [
       "dst\n",
       "14.45.67.46    172.0\n",
       "dtype: float64"
      ]
     },
     "execution_count": 35,
     "metadata": {},
     "output_type": "execute_result"
    }
   ],
   "source": [
    "df[~df['src_int'] & df['dst_int']]\\\n",
    "    .pipe(lambda x: x[x.src.isin(single_dst)])\\\n",
    "    .drop_duplicates(['src', 'dst'])\\\n",
    "    .groupby('dst').size()\\\n",
    "    .where(lambda x: x > 0).dropna()"
   ]
  },
  {
   "cell_type": "code",
   "execution_count": null,
   "metadata": {},
   "outputs": [
    {
     "data": {
      "text/html": [
       "<div>\n",
       "<style scoped>\n",
       "    .dataframe tbody tr th:only-of-type {\n",
       "        vertical-align: middle;\n",
       "    }\n",
       "\n",
       "    .dataframe tbody tr th {\n",
       "        vertical-align: top;\n",
       "    }\n",
       "\n",
       "    .dataframe thead th {\n",
       "        text-align: right;\n",
       "    }\n",
       "</style>\n",
       "<table border=\"1\" class=\"dataframe\">\n",
       "  <thead>\n",
       "    <tr style=\"text-align: right;\">\n",
       "      <th></th>\n",
       "      <th>ts</th>\n",
       "      <th>src</th>\n",
       "      <th>dst</th>\n",
       "      <th>port</th>\n",
       "      <th>bytes</th>\n",
       "      <th>src_int</th>\n",
       "      <th>dst_int</th>\n",
       "      <th>hour</th>\n",
       "      <th>minute</th>\n",
       "    </tr>\n",
       "  </thead>\n",
       "  <tbody>\n",
       "    <tr>\n",
       "      <th>14608703</th>\n",
       "      <td>2020-01-06 21:59:50.350</td>\n",
       "      <td>18.50.110.105</td>\n",
       "      <td>14.45.67.46</td>\n",
       "      <td>27</td>\n",
       "      <td>941</td>\n",
       "      <td>False</td>\n",
       "      <td>True</td>\n",
       "      <td>21</td>\n",
       "      <td>59</td>\n",
       "    </tr>\n",
       "    <tr>\n",
       "      <th>14611626</th>\n",
       "      <td>2020-01-06 21:59:54.799</td>\n",
       "      <td>19.125.42.108</td>\n",
       "      <td>14.45.67.46</td>\n",
       "      <td>27</td>\n",
       "      <td>877</td>\n",
       "      <td>False</td>\n",
       "      <td>True</td>\n",
       "      <td>21</td>\n",
       "      <td>59</td>\n",
       "    </tr>\n",
       "    <tr>\n",
       "      <th>14612006</th>\n",
       "      <td>2020-01-06 21:59:55.336</td>\n",
       "      <td>19.112.61.90</td>\n",
       "      <td>14.45.67.46</td>\n",
       "      <td>27</td>\n",
       "      <td>931</td>\n",
       "      <td>False</td>\n",
       "      <td>True</td>\n",
       "      <td>21</td>\n",
       "      <td>59</td>\n",
       "    </tr>\n",
       "    <tr>\n",
       "      <th>14612049</th>\n",
       "      <td>2020-01-06 21:59:55.401</td>\n",
       "      <td>15.67.125.70</td>\n",
       "      <td>14.45.67.46</td>\n",
       "      <td>27</td>\n",
       "      <td>1147</td>\n",
       "      <td>False</td>\n",
       "      <td>True</td>\n",
       "      <td>21</td>\n",
       "      <td>59</td>\n",
       "    </tr>\n",
       "    <tr>\n",
       "      <th>14612052</th>\n",
       "      <td>2020-01-06 21:59:55.401</td>\n",
       "      <td>19.92.34.40</td>\n",
       "      <td>14.45.67.46</td>\n",
       "      <td>27</td>\n",
       "      <td>913</td>\n",
       "      <td>False</td>\n",
       "      <td>True</td>\n",
       "      <td>21</td>\n",
       "      <td>59</td>\n",
       "    </tr>\n",
       "  </tbody>\n",
       "</table>\n",
       "</div>"
      ],
      "text/plain": [
       "                              ts            src          dst  port  bytes  \\\n",
       "14608703 2020-01-06 21:59:50.350  18.50.110.105  14.45.67.46    27    941   \n",
       "14611626 2020-01-06 21:59:54.799  19.125.42.108  14.45.67.46    27    877   \n",
       "14612006 2020-01-06 21:59:55.336   19.112.61.90  14.45.67.46    27    931   \n",
       "14612049 2020-01-06 21:59:55.401   15.67.125.70  14.45.67.46    27   1147   \n",
       "14612052 2020-01-06 21:59:55.401    19.92.34.40  14.45.67.46    27    913   \n",
       "\n",
       "          src_int  dst_int  hour  minute  \n",
       "14608703    False     True    21      59  \n",
       "14611626    False     True    21      59  \n",
       "14612006    False     True    21      59  \n",
       "14612049    False     True    21      59  \n",
       "14612052    False     True    21      59  "
      ]
     },
     "execution_count": 36,
     "metadata": {},
     "output_type": "execute_result"
    }
   ],
   "source": [
    "df[~df['src_int'] & df['dst_int']]\\\n",
    "  .pipe(lambda x: x[x.src.isin(single_dst)])\\\n",
    "  .drop_duplicates(['src', 'dst'])\\\n",
    "  .head()"
   ]
  },
  {
   "cell_type": "code",
   "execution_count": null,
   "metadata": {},
   "outputs": [],
   "source": [
    "blacklist_ips.append('14.45.67.46')\n",
    "answers.append('14.45.67.46')"
   ]
  },
  {
   "cell_type": "markdown",
   "metadata": {},
   "source": [
    "__ANSWER__: 14.45.67.46"
   ]
  },
  {
   "cell_type": "markdown",
   "metadata": {},
   "source": [
    "### Question 7: Infected Host\n",
    "\n",
    "*One host is part of the botnet from Question 6, what is its IP?*"
   ]
  },
  {
   "cell_type": "markdown",
   "metadata": {},
   "source": [
    "From the previous question we know that hosts in the botnet contact `14.45.67.46` on port `27`, so we look for internal hosts that have this similar behavior."
   ]
  },
  {
   "cell_type": "code",
   "execution_count": null,
   "metadata": {},
   "outputs": [
    {
     "data": {
      "text/html": [
       "<div>\n",
       "<style scoped>\n",
       "    .dataframe tbody tr th:only-of-type {\n",
       "        vertical-align: middle;\n",
       "    }\n",
       "\n",
       "    .dataframe tbody tr th {\n",
       "        vertical-align: top;\n",
       "    }\n",
       "\n",
       "    .dataframe thead th {\n",
       "        text-align: right;\n",
       "    }\n",
       "</style>\n",
       "<table border=\"1\" class=\"dataframe\">\n",
       "  <thead>\n",
       "    <tr style=\"text-align: right;\">\n",
       "      <th></th>\n",
       "      <th>ts</th>\n",
       "      <th>src</th>\n",
       "      <th>dst</th>\n",
       "      <th>port</th>\n",
       "      <th>bytes</th>\n",
       "      <th>src_int</th>\n",
       "      <th>dst_int</th>\n",
       "      <th>hour</th>\n",
       "      <th>minute</th>\n",
       "    </tr>\n",
       "  </thead>\n",
       "  <tbody>\n",
       "    <tr>\n",
       "      <th>14623735</th>\n",
       "      <td>2020-01-06 22:00:12.552</td>\n",
       "      <td>14.51.84.50</td>\n",
       "      <td>14.45.67.46</td>\n",
       "      <td>27</td>\n",
       "      <td>902</td>\n",
       "      <td>True</td>\n",
       "      <td>True</td>\n",
       "      <td>22</td>\n",
       "      <td>0</td>\n",
       "    </tr>\n",
       "    <tr>\n",
       "      <th>62683179</th>\n",
       "      <td>2020-01-09 08:34:32.855</td>\n",
       "      <td>13.42.70.40</td>\n",
       "      <td>14.45.67.46</td>\n",
       "      <td>27</td>\n",
       "      <td>979</td>\n",
       "      <td>True</td>\n",
       "      <td>True</td>\n",
       "      <td>8</td>\n",
       "      <td>34</td>\n",
       "    </tr>\n",
       "  </tbody>\n",
       "</table>\n",
       "</div>"
      ],
      "text/plain": [
       "                              ts          src          dst  port  bytes  \\\n",
       "14623735 2020-01-06 22:00:12.552  14.51.84.50  14.45.67.46    27    902   \n",
       "62683179 2020-01-09 08:34:32.855  13.42.70.40  14.45.67.46    27    979   \n",
       "\n",
       "          src_int  dst_int  hour  minute  \n",
       "14623735     True     True    22       0  \n",
       "62683179     True     True     8      34  "
      ]
     },
     "execution_count": 38,
     "metadata": {},
     "output_type": "execute_result"
    }
   ],
   "source": [
    "df[\n",
    "    df['src_int'] & df['dst_int']\n",
    "    & (df['dst'] == '14.45.67.46')\n",
    "    & (df['port'] == 27)\n",
    "].drop_duplicates('src')"
   ]
  },
  {
   "cell_type": "code",
   "execution_count": null,
   "metadata": {},
   "outputs": [],
   "source": [
    "blacklist_ips.append('14.51.84.50')\n",
    "answers.append('14.51.84.50')"
   ]
  },
  {
   "cell_type": "markdown",
   "metadata": {},
   "source": [
    "__ANSWER:__ 14.51.84.50"
   ]
  },
  {
   "cell_type": "markdown",
   "metadata": {},
   "source": [
    "### Question 8: Botnet Inside\n",
    "*There is a stealthier botnet in the network, using low frequency periodic callbacks to external C&C, with embedded higher frequency calls.  What port does it use?*"
   ]
  },
  {
   "cell_type": "markdown",
   "metadata": {},
   "source": [
    "There are several ways to approach this challenge. The simplest and which has the strongest assumption, is we assume that the period is some nice number like _15 minutes_, _30 minutes_, or _60 minutes_. If so, then we should expect all connections to have a small number of distinct `minute`. For example, the connections might be established on `8:17`, `9:17`, `10:17`... "
   ]
  },
  {
   "cell_type": "code",
   "execution_count": null,
   "metadata": {},
   "outputs": [
    {
     "data": {
      "text/plain": [
       "dst\n",
       "18.71.92.126     1\n",
       "16.39.105.81     1\n",
       "16.51.103.38     1\n",
       "18.70.59.66      2\n",
       "19.115.22.126    2\n",
       "18.121.60.66     2\n",
       "dtype: int64"
      ]
     },
     "execution_count": 40,
     "metadata": {},
     "output_type": "execute_result"
    }
   ],
   "source": [
    "periodic_callbacks = df[df['src_int'] & ~df['dst_int']]\\\n",
    "  .drop_duplicates(['dst', 'minute'])\\\n",
    "  .groupby('dst').size()\\\n",
    "  .pipe(lambda x: x[(x > 0) & (x <= 4)])\\\n",
    "  .sort_values()\n",
    "\n",
    "periodic_callbacks"
   ]
  },
  {
   "cell_type": "markdown",
   "metadata": {},
   "source": [
    "And plotting connections to these hosts makes the periodicity very apparent, especially comparing it with the traffic to some benign "
   ]
  },
  {
   "cell_type": "code",
   "execution_count": null,
   "metadata": {},
   "outputs": [
    {
     "data": {
      "text/plain": [
       "<AxesSubplot:title={'center':'Connections over time to 14.53.122.55 (benign)'}, xlabel='ts'>"
      ]
     },
     "execution_count": 41,
     "metadata": {},
     "output_type": "execute_result"
    },
    {
     "data": {
      "image/png": "[encoded data removed]",
      "text/plain": [
       "<Figure size 864x432 with 2 Axes>"
      ]
     },
     "metadata": {
      "needs_background": "light"
     },
     "output_type": "display_data"
    }
   ],
   "source": [
    "fig, (ax_l, ax_r) = plt.subplots(ncols=2, sharey=True, figsize=(12,6))\n",
    "\n",
    "df[df.dst.isin(periodic_callbacks.index)]\\\n",
    "    .set_index('ts')\\\n",
    "    .resample('Min').size()\\\n",
    "    .plot(title='Connections over time to C&C(min interval)', ax=ax_l)\n",
    "\n",
    "df[df.dst == '14.53.122.55']\\\n",
    "    .set_index('ts')\\\n",
    "    .resample('Min').size()\\\n",
    "    .plot(title='Connections over time to 14.53.122.55 (benign)', ax=ax_r)"
   ]
  },
  {
   "cell_type": "markdown",
   "metadata": {},
   "source": [
    "We were lucky with this problem, since this approach would not work if some jitter was introduced in the delay between callbacks. We would need to use a bit more sophisticated approaches to detect the beaconing."
   ]
  },
  {
   "cell_type": "code",
   "execution_count": null,
   "metadata": {},
   "outputs": [],
   "source": [
    "answers.append('51')"
   ]
  },
  {
   "cell_type": "markdown",
   "metadata": {},
   "source": [
    "__ANSWER:__ 51"
   ]
  },
  {
   "cell_type": "markdown",
   "metadata": {},
   "source": [
    "However for the sake of completeness, let's say that our initial attempt did not work because the beaconing was at a strange interval such as _17 minutes_.\n",
    "\n",
    "In that case, we think about what other possible characteristics does beaconing have. If we assume that the callback occurs every _N seconds/minutes/hours_ with the same message (which is either something like \"I'm alive!\" or \"What are my commands?\"). Then we can look at 2 aspects\n",
    "- The time difference between callbacks would be consistent\n",
    "- The size (bytes) and duration of the connection would be consistent\n",
    "\n",
    "It may also be that the callbacks that the botnet uses is some uncommon port, we can revisit the outbound ports used and _look at the long tail_.\n",
    "\n",
    "Since this is a botnet that is contacting the C&C server, the time difference may not be as reliable, however, the size of the connections might be consistent. \n",
    "\n",
    "If we look for the the destinations that recieve consistent, connections sizes then we see that the hosts we identified earlier have 0 variance connection sizes. We see that callbacks are consistently `1337 bytes` large. "
   ]
  },
  {
   "cell_type": "code",
   "execution_count": null,
   "metadata": {},
   "outputs": [
    {
     "data": {
      "text/plain": [
       "dst\n",
       "16.51.103.38         0.000000\n",
       "19.115.22.126        0.000000\n",
       "18.121.60.66         0.000000\n",
       "18.70.59.66          0.000000\n",
       "16.39.105.81         0.000000\n",
       "18.71.92.126         0.000000\n",
       "17.110.95.63     24775.628446\n",
       "19.22.108.42     24849.693691\n",
       "16.114.59.36     24875.215356\n",
       "17.60.68.45      24903.385372\n",
       "Name: bytes, dtype: float64"
      ]
     },
     "execution_count": 43,
     "metadata": {},
     "output_type": "execute_result"
    }
   ],
   "source": [
    "df[~df['dst_int']]\\\n",
    "    .groupby('dst')\\\n",
    "    .bytes.std()\\\n",
    "    .sort_values()\\\n",
    "    .head(10)"
   ]
  },
  {
   "cell_type": "markdown",
   "metadata": {},
   "source": [
    "We may also detected this if we investigated on outbound connections (or attempts to connect) to unknown or uncommon ports. As you can see, port `51` (and `31`) are have suspiciously low frequencies."
   ]
  },
  {
   "cell_type": "code",
   "execution_count": null,
   "metadata": {},
   "outputs": [
    {
     "data": {
      "text/plain": [
       "port\n",
       "51        107\n",
       "31        348\n",
       "32       5564\n",
       "78       5640\n",
       "21       5671\n",
       "95       5672\n",
       "36       5778\n",
       "123    481275\n",
       "42     481672\n",
       "112    481942\n",
       "dtype: int64"
      ]
     },
     "execution_count": 44,
     "metadata": {},
     "output_type": "execute_result"
    }
   ],
   "source": [
    "df[~df['dst_int']]\\\n",
    "    .groupby('port').size()\\\n",
    "    .sort_values()\\\n",
    "    .head(10)"
   ]
  },
  {
   "cell_type": "code",
   "execution_count": null,
   "metadata": {},
   "outputs": [
    {
     "data": {
      "text/html": [
       "<div>\n",
       "<style scoped>\n",
       "    .dataframe tbody tr th:only-of-type {\n",
       "        vertical-align: middle;\n",
       "    }\n",
       "\n",
       "    .dataframe tbody tr th {\n",
       "        vertical-align: top;\n",
       "    }\n",
       "\n",
       "    .dataframe thead th {\n",
       "        text-align: right;\n",
       "    }\n",
       "</style>\n",
       "<table border=\"1\" class=\"dataframe\">\n",
       "  <thead>\n",
       "    <tr style=\"text-align: right;\">\n",
       "      <th></th>\n",
       "      <th>src</th>\n",
       "      <th>dst</th>\n",
       "      <th>bytes</th>\n",
       "    </tr>\n",
       "  </thead>\n",
       "  <tbody>\n",
       "    <tr>\n",
       "      <th>25974951</th>\n",
       "      <td>13.36.114.99</td>\n",
       "      <td>18.121.60.66</td>\n",
       "      <td>1337</td>\n",
       "    </tr>\n",
       "    <tr>\n",
       "      <th>28424761</th>\n",
       "      <td>13.36.114.99</td>\n",
       "      <td>18.121.60.66</td>\n",
       "      <td>1337</td>\n",
       "    </tr>\n",
       "    <tr>\n",
       "      <th>30876189</th>\n",
       "      <td>13.36.114.99</td>\n",
       "      <td>18.121.60.66</td>\n",
       "      <td>1337</td>\n",
       "    </tr>\n",
       "    <tr>\n",
       "      <th>35779858</th>\n",
       "      <td>12.48.48.60</td>\n",
       "      <td>19.115.22.126</td>\n",
       "      <td>1337</td>\n",
       "    </tr>\n",
       "    <tr>\n",
       "      <th>38226755</th>\n",
       "      <td>12.48.48.60</td>\n",
       "      <td>19.115.22.126</td>\n",
       "      <td>1337</td>\n",
       "    </tr>\n",
       "  </tbody>\n",
       "</table>\n",
       "</div>"
      ],
      "text/plain": [
       "                   src            dst  bytes\n",
       "25974951  13.36.114.99   18.121.60.66   1337\n",
       "28424761  13.36.114.99   18.121.60.66   1337\n",
       "30876189  13.36.114.99   18.121.60.66   1337\n",
       "35779858   12.48.48.60  19.115.22.126   1337\n",
       "38226755   12.48.48.60  19.115.22.126   1337"
      ]
     },
     "execution_count": 45,
     "metadata": {},
     "output_type": "execute_result"
    }
   ],
   "source": [
    "df.loc[\n",
    "    df.dst.isin(periodic_callbacks.index),\n",
    "    ['src', 'dst', 'bytes']\n",
    "].head()"
   ]
  },
  {
   "cell_type": "markdown",
   "metadata": {},
   "source": [
    "And if we look at the time deltas of the connections of the botnet as a whole, we see that there is little variance around the 3 modes of the distributions might be the:\n",
    "- connections that occurred at the same time\n",
    "- low frequency callbacks\n",
    "- high frequency callbacks "
   ]
  },
  {
   "cell_type": "code",
   "execution_count": null,
   "metadata": {},
   "outputs": [
    {
     "data": {
      "text/plain": [
       "<AxesSubplot:ylabel='Frequency'>"
      ]
     },
     "execution_count": 46,
     "metadata": {},
     "output_type": "execute_result"
    },
    {
     "data": {
      "image/png": "[encoded data removed]",
      "text/plain": [
       "<Figure size 432x288 with 1 Axes>"
      ]
     },
     "metadata": {
      "needs_background": "light"
     },
     "output_type": "display_data"
    }
   ],
   "source": [
    "df[df.dst.isin(periodic_callbacks.index)]\\\n",
    "    .ts.diff()\\\n",
    "    .dt.total_seconds()\\\n",
    "    .plot.hist(bins=50)"
   ]
  },
  {
   "cell_type": "markdown",
   "metadata": {},
   "source": [
    "These are several characteristics that we can use to look for \"weird\" outbound connections"
   ]
  },
  {
   "cell_type": "markdown",
   "metadata": {},
   "source": [
    "### Question 9: Lateral Brute\n",
    "\n",
    "*Once a machine is popped, it's often used to explore what else can be reached.  One host is being used to loudly probe the entire enterprise, trying to find ways onto every other host in the enterprise.  What is its IP?*\n"
   ]
  },
  {
   "cell_type": "markdown",
   "metadata": {},
   "source": [
    "Here we look for telltale signs of scanning which are one of:\n",
    "- large number of distinct `destination ports` \n",
    "- large number of distinct `destination ips`"
   ]
  },
  {
   "cell_type": "code",
   "execution_count": null,
   "metadata": {},
   "outputs": [
    {
     "ename": "NameError",
     "evalue": "name 'df' is not defined",
     "output_type": "error",
     "traceback": [
      "\u001b[1;31m---------------------------------------------------------------------------\u001b[0m",
      "\u001b[1;31mNameError\u001b[0m                                 Traceback (most recent call last)",
      "\u001b[1;32m~\\AppData\\Local\\Temp/ipykernel_7956/1081481687.py\u001b[0m in \u001b[0;36m<module>\u001b[1;34m\u001b[0m\n\u001b[1;32m----> 1\u001b[1;33m \u001b[0mdst_counts\u001b[0m \u001b[1;33m=\u001b[0m \u001b[0mdf\u001b[0m\u001b[1;33m[\u001b[0m\u001b[0mdf\u001b[0m\u001b[1;33m[\u001b[0m\u001b[1;34m'src_int'\u001b[0m\u001b[1;33m]\u001b[0m \u001b[1;33m&\u001b[0m \u001b[0mdf\u001b[0m\u001b[1;33m[\u001b[0m\u001b[1;34m'dst_int'\u001b[0m\u001b[1;33m]\u001b[0m\u001b[1;33m]\u001b[0m\u001b[0;31m\\\u001b[0m\u001b[1;33m\u001b[0m\u001b[1;33m\u001b[0m\u001b[0m\n\u001b[0m\u001b[0;32m      2\u001b[0m     \u001b[1;33m.\u001b[0m\u001b[0mdrop_duplicates\u001b[0m\u001b[1;33m(\u001b[0m\u001b[1;33m[\u001b[0m\u001b[1;34m'src'\u001b[0m\u001b[1;33m,\u001b[0m \u001b[1;34m'dst'\u001b[0m\u001b[1;33m]\u001b[0m\u001b[1;33m)\u001b[0m\u001b[0;31m\\\u001b[0m\u001b[1;33m\u001b[0m\u001b[1;33m\u001b[0m\u001b[0m\n\u001b[0;32m      3\u001b[0m     \u001b[1;33m.\u001b[0m\u001b[0mgroupby\u001b[0m\u001b[1;33m(\u001b[0m\u001b[1;34m'src'\u001b[0m\u001b[1;33m)\u001b[0m\u001b[1;33m.\u001b[0m\u001b[0msize\u001b[0m\u001b[1;33m(\u001b[0m\u001b[1;33m)\u001b[0m\u001b[0;31m\\\u001b[0m\u001b[1;33m\u001b[0m\u001b[1;33m\u001b[0m\u001b[0m\n\u001b[0;32m      4\u001b[0m     \u001b[1;33m.\u001b[0m\u001b[0msort_values\u001b[0m\u001b[1;33m(\u001b[0m\u001b[0mascending\u001b[0m\u001b[1;33m=\u001b[0m\u001b[1;32mFalse\u001b[0m\u001b[1;33m)\u001b[0m\u001b[1;33m\u001b[0m\u001b[1;33m\u001b[0m\u001b[0m\n\u001b[0;32m      5\u001b[0m \u001b[0mdst_counts\u001b[0m\u001b[1;33m.\u001b[0m\u001b[0mhead\u001b[0m\u001b[1;33m(\u001b[0m\u001b[1;36m1\u001b[0m\u001b[1;33m)\u001b[0m\u001b[1;33m\u001b[0m\u001b[1;33m\u001b[0m\u001b[0m\n",
      "\u001b[1;31mNameError\u001b[0m: name 'df' is not defined"
     ]
    }
   ],
   "source": [
    "dst_counts = df[df['src_int'] & df['dst_int']]\\\n",
    "    .drop_duplicates(['src', 'dst'])\\\n",
    "    .groupby('src').size()\\\n",
    "    .sort_values(ascending=False)\n",
    "dst_counts.head()"
   ]
  },
  {
   "cell_type": "markdown",
   "metadata": {},
   "source": [
    "Here it is clear that `13.42.70.40` is scanning and trying to move laterally. And for completeness, we can see a spike in network activity due to scanning on off hours."
   ]
  },
  {
   "cell_type": "code",
   "execution_count": null,
   "metadata": {},
   "outputs": [
    {
     "data": {
      "text/plain": [
       "<AxesSubplot:title={'center':'Network activity count of 13.42.70.40'}, xlabel='ts'>"
      ]
     },
     "execution_count": 48,
     "metadata": {},
     "output_type": "execute_result"
    },
    {
     "data": {
      "image/png": "[encoded data removed]",
      "text/plain": [
       "<Figure size 432x288 with 1 Axes>"
      ]
     },
     "metadata": {
      "needs_background": "light"
     },
     "output_type": "display_data"
    }
   ],
   "source": [
    "df[df.src == '13.42.70.40']\\\n",
    "    .set_index('ts')\\\n",
    "    .resample('1h').size()\\\n",
    "    .plot(title='Network activity count of 13.42.70.40')"
   ]
  },
  {
   "cell_type": "code",
   "execution_count": null,
   "metadata": {},
   "outputs": [],
   "source": [
    "blacklist_ips.append('13.42.70.40')\n",
    "answers.append('13.42.70.40')"
   ]
  },
  {
   "cell_type": "markdown",
   "metadata": {},
   "source": [
    "__ANSWER:__ 13.42.70.40"
   ]
  },
  {
   "cell_type": "markdown",
   "metadata": {},
   "source": [
    "### Question 10: Lateral Spy\n",
    "\n",
    "*One host is trying to find a way onto every other host more quietly.  What is its IP?*"
   ]
  },
  {
   "cell_type": "code",
   "execution_count": null,
   "metadata": {},
   "outputs": [],
   "source": [
    "# Getting internal only connections\n",
    "int_df = df[df['src_int'] & df['dst_int']]\\\n",
    "    .pipe(lambda x: x[~x.src.isin(blacklist_ips)])\\\n",
    "    .drop_duplicates(('src', 'dst', 'port'))"
   ]
  },
  {
   "cell_type": "markdown",
   "metadata": {},
   "source": [
    "This is one of the trickier questions. Looking only at the number of unique `ports` or `dsts`, we cannot see any outliers."
   ]
  },
  {
   "cell_type": "code",
   "execution_count": null,
   "metadata": {},
   "outputs": [
    {
     "name": "stdout",
     "output_type": "stream",
     "text": [
      "Unique dsts\n"
     ]
    },
    {
     "data": {
      "text/plain": [
       "src\n",
       "14.34.65.37      417\n",
       "14.57.111.109    417\n",
       "14.41.31.49      417\n",
       "13.43.77.101     417\n",
       "13.36.43.78      417\n",
       "dtype: int64"
      ]
     },
     "execution_count": 51,
     "metadata": {},
     "output_type": "execute_result"
    }
   ],
   "source": [
    "print('Unique dsts')\n",
    "int_df\\\n",
    "  .drop_duplicates(['src', 'dst'])\\\n",
    "  .groupby('src').size()\\\n",
    "  .sort_values(ascending=False).head()"
   ]
  },
  {
   "cell_type": "code",
   "execution_count": null,
   "metadata": {},
   "outputs": [
    {
     "name": "stdout",
     "output_type": "stream",
     "text": [
      "Unique ports\n"
     ]
    },
    {
     "data": {
      "text/plain": [
       "src\n",
       "14.34.65.37    46\n",
       "12.45.54.25    46\n",
       "14.41.31.49    46\n",
       "13.36.43.78    46\n",
       "13.53.79.40    46\n",
       "dtype: int64"
      ]
     },
     "execution_count": 52,
     "metadata": {},
     "output_type": "execute_result"
    }
   ],
   "source": [
    "print('Unique ports')\n",
    "int_df\\\n",
    "  .drop_duplicates(['src', 'port'])\\\n",
    "  .groupby('src').size()\\\n",
    "  .sort_values(ascending=False).head()"
   ]
  },
  {
   "cell_type": "markdown",
   "metadata": {},
   "source": [
    "To move laterally, you may first have to identify hosts that are online, and which ports are open. And typically, hosts, such as desktops, shouldn't expect connections to a lot of its ports, especially those ports that are not used.\n",
    "\n",
    "And for ports that are scanned, a lot of them may not be open, so we shouldn't expect legitimate traffic to try to connect to unused ports unless there is some misconfiguration misconfiguration. So for unused ports, we would only expect traffic from the scanner and no one else. "
   ]
  },
  {
   "cell_type": "markdown",
   "metadata": {},
   "source": [
    "For each `dst, port` pair, we collect the hosts that are connected to it. If a lot of hosts are observed to connect to it, then we are more confident that it is a legitimate `dst, port` pair."
   ]
  },
  {
   "cell_type": "code",
   "execution_count": null,
   "metadata": {},
   "outputs": [
    {
     "data": {
      "text/plain": [
       "dst            port\n",
       "13.42.66.93    22                                         [12.49.123.62]\n",
       "13.46.80.34    94      [14.44.94.31, 14.46.36.121, 14.49.82.31, 13.36...\n",
       "14.30.29.30    96                                         [12.49.123.62]\n",
       "14.30.40.71    61                                         [12.49.123.62]\n",
       "13.44.59.52    68      [12.34.57.42, 13.40.30.60, 13.59.54.25, 13.45....\n",
       "13.41.114.96   82                                         [12.49.123.62]\n",
       "13.57.106.78   61      [12.41.56.57, 13.58.54.65, 14.48.110.26, 14.43...\n",
       "13.55.120.121  61      [13.30.49.24, 14.52.110.88, 12.44.73.26, 12.43...\n",
       "12.36.36.112   37      [14.38.125.98, 14.51.39.122, 12.52.55.115, 14....\n",
       "13.33.94.98    83      [12.45.52.97, 12.37.52.89, 14.48.110.26, 12.52...\n",
       "Name: src, dtype: object"
      ]
     },
     "execution_count": 53,
     "metadata": {},
     "output_type": "execute_result"
    }
   ],
   "source": [
    "dst_port_df = int_df\\\n",
    "    .groupby(['dst', 'port'])\\\n",
    "    .src.apply(list).dropna()\n",
    "\n",
    "dst_port_df.sample(10)"
   ]
  },
  {
   "cell_type": "markdown",
   "metadata": {},
   "source": [
    "We filter out those that have only 1 unique `src` since these are more likely to be the result of some scanning. We then see where these activities come from."
   ]
  },
  {
   "cell_type": "code",
   "execution_count": null,
   "metadata": {},
   "outputs": [
    {
     "data": {
      "text/plain": [
       "12.49.123.62    5097\n",
       "Name: src, dtype: int64"
      ]
     },
     "execution_count": 54,
     "metadata": {},
     "output_type": "execute_result"
    }
   ],
   "source": [
    "dst_port_df.pipe(lambda x: x[x.map(len) == 1])\\\n",
    "    .to_frame().reset_index()\\\n",
    "    .explode('src')\\\n",
    "    .src.value_counts()"
   ]
  },
  {
   "cell_type": "markdown",
   "metadata": {},
   "source": [
    "Here we see clearly that `12.49.123.62` is scanning the network."
   ]
  },
  {
   "cell_type": "code",
   "execution_count": null,
   "metadata": {},
   "outputs": [],
   "source": [
    "answers.append('12.49.123.62')"
   ]
  },
  {
   "cell_type": "markdown",
   "metadata": {},
   "source": [
    "__ANSWER:__ 12.49.123.62"
   ]
  },
  {
   "cell_type": "markdown",
   "metadata": {},
   "source": [
    "# Checking the answers"
   ]
  },
  {
   "cell_type": "code",
   "execution_count": null,
   "metadata": {},
   "outputs": [],
   "source": [
    "import hashlib\n",
    "answer_hash = hashlib.md5(':'.join(answers).encode('utf-8')).hexdigest()\n",
    "assert answer_hash == 'ec766132cac80b821793fb9e7fdfd763'"
   ]
  },
  {
   "cell_type": "code",
   "execution_count": null,
   "metadata": {},
   "outputs": [
    {
     "name": "stdout",
     "output_type": "stream",
     "text": [
      "13.37.84.125\n",
      "12.55.77.96\n",
      "124\n",
      "113\n",
      "83\n",
      "14.45.67.46\n",
      "14.51.84.50\n",
      "51\n",
      "13.42.70.40\n",
      "12.49.123.62\n"
     ]
    }
   ],
   "source": [
    "print('\\n'.join(answers))"
   ]
  },
  {
   "cell_type": "code",
   "execution_count": null,
   "metadata": {},
   "outputs": [
    {
     "name": "stdout",
     "output_type": "stream",
     "text": [
      "['13.37.84.125', '12.55.77.96', '12.30.96.87', '14.45.67.46', '14.51.84.50', '13.42.70.40']\n"
     ]
    }
   ],
   "source": [
    "print(blacklist_ips)"
   ]
  }
 ],
 "metadata": {
  "kernelspec": {
   "display_name": "Python 3",
   "language": "python",
   "name": "python3"
  },
  "language_info": {
   "codemirror_mode": {
    "name": "ipython",
    "version": 3
   },
   "file_extension": ".py",
   "mimetype": "text/x-python",
   "name": "python",
   "nbconvert_exporter": "python",
   "pygments_lexer": "ipython3",
   "version": "3.9.6"
  },
  "vscode": {
   "interpreter": {
    "hash": "6892b7ecd61a1bc0641fbd9111f6a9d99c33a286f6bf10d47b106e61abc379cf"
   }
  }
 },
 "nbformat": 4,
 "nbformat_minor": 1
}
